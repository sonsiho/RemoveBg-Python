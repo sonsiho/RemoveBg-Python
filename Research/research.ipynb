{
 "cells": [
  {
   "cell_type": "markdown",
   "source": [
    "## 1. Tiền xử lý hình ảnh"
   ],
   "metadata": {
    "collapsed": false
   }
  },
  {
   "cell_type": "code",
   "execution_count": 38,
   "metadata": {
    "collapsed": true,
    "ExecuteTime": {
     "end_time": "2024-01-01T06:38:36.015946600Z",
     "start_time": "2024-01-01T06:38:36.008278900Z"
    }
   },
   "outputs": [],
   "source": [
    "import cv2\n",
    "import matplotlib.pyplot as plt\n",
    "from PIL import Image\n",
    "import os\n",
    "\n",
    "full_file_path = 'files/ImageNotRembg/chuky3.png'\n",
    "full_file_name = os.path.basename(full_file_path)\n",
    "\n",
    "file_name, file_extension = os.path.splitext(full_file_name)\n",
    "\n",
    "# lower filename and file_extension\n",
    "file_name = file_name.lower()\n",
    "file_extension = file_extension.lower()\n",
    "file_extension_without_dot = file_extension.split(\".\")[-1]\n",
    "\n",
    "file_path_preprocessing = F'files/PreProcessing/{file_name}_preprocessing{file_extension}'\n",
    "file_path_result = F'files/Results/{file_name}_result{file_extension}'\n",
    "\n",
    "def pre_processing_img():\n",
    "    # Load image, convert to grayscale, Gaussian blur, Otsu's threshold\n",
    "    image_input = cv2.imread(full_file_path)\n",
    "    gray = cv2.cvtColor(image_input, cv2.COLOR_BGR2GRAY)\n",
    "    blur = cv2.GaussianBlur(gray, (3, 3), 0)\n",
    "    thresh = cv2.threshold(blur, 0, 255, cv2.THRESH_BINARY_INV + cv2.THRESH_OTSU)[1]\n",
    "    # Bitwise-and and color background white\n",
    "    result = cv2.bitwise_and(image_input, image_input, mask=thresh)\n",
    "    result[thresh == 0] = [255, 255, 255]\n",
    "    cv2.imwrite(file_path_preprocessing, result)\n",
    "\n",
    "pre_processing_img()"
   ]
  },
  {
   "cell_type": "code",
   "execution_count": 39,
   "outputs": [],
   "source": [
    "# research 1\n",
    "# import cv2\n",
    "# from PIL import Image\n",
    "#\n",
    "# img = cv2.imread(file_path_preprocessing, cv2.IMREAD_GRAYSCALE)\n",
    "#\n",
    "# # define a threshold\n",
    "# thresh = 110\n",
    "#\n",
    "# # threshold the image\n",
    "# img = cv2.threshold(img, thresh, 255, cv2.THRESH_BINARY)[1]\n",
    "#\n",
    "# #convert nparray data\n",
    "# img = Image.fromarray(img)\n",
    "# img = img.convert(\"RGBA\")\n",
    "#\n",
    "# pixdata = img.load()\n",
    "#\n",
    "# width, height = img.size\n",
    "# for y in range(height):\n",
    "#     for x in range(width):\n",
    "#         if pixdata[x, y] == (255, 255, 255, 255):   #transparent\n",
    "#             pixdata[x, y] = (255, 255, 255, 0)\n",
    "#\n",
    "# img.save(file_path_result, file_extension_without_dot)"
   ],
   "metadata": {
    "collapsed": false,
    "ExecuteTime": {
     "end_time": "2024-01-01T06:38:38.046851100Z",
     "start_time": "2024-01-01T06:38:38.038468500Z"
    }
   }
  },
  {
   "cell_type": "code",
   "execution_count": null,
   "outputs": [],
   "source": [],
   "metadata": {
    "collapsed": false
   }
  }
 ],
 "metadata": {
  "kernelspec": {
   "display_name": "Python 3",
   "language": "python",
   "name": "python3"
  },
  "language_info": {
   "codemirror_mode": {
    "name": "ipython",
    "version": 2
   },
   "file_extension": ".py",
   "mimetype": "text/x-python",
   "name": "python",
   "nbconvert_exporter": "python",
   "pygments_lexer": "ipython2",
   "version": "2.7.6"
  }
 },
 "nbformat": 4,
 "nbformat_minor": 0
}
