{
 "cells": [
  {
   "cell_type": "code",
   "execution_count": 15,
   "metadata": {
    "collapsed": true,
    "ExecuteTime": {
     "end_time": "2024-04-15T13:24:32.082048400Z",
     "start_time": "2024-04-15T13:24:01.624491500Z"
    }
   },
   "outputs": [],
   "source": [
    "import cv2\n",
    "import numpy as np\n",
    "import os\n",
    "from PIL import Image\n",
    "from helper import bg\n",
    "import matplotlib.pyplot as plt\n",
    "import io\n",
    "\n",
    "\n",
    "def naive_cutout(img, mask):\n",
    "    empty = Image.new(\"RGBA\", (img.size), 0)\n",
    "    cutout = Image.composite(img, empty, mask.resize(img.size, Image.LANCZOS))\n",
    "    return cutout\n",
    "\n",
    "def remove_background_signature(image_path, output_path):\n",
    "    image = cv2.imread(image_path)\n",
    "    image = cv2.cvtColor(image, cv2.COLOR_BGR2RGB)\n",
    "    gray = cv2.cvtColor(image, cv2.COLOR_BGR2GRAY)\n",
    "    blur = cv2.GaussianBlur(gray, (3, 3), 0)\n",
    "    thresh = cv2.threshold(blur, 0, 255, cv2.THRESH_BINARY_INV + cv2.THRESH_OTSU)[1]\n",
    "    #thresh = cv2.adaptiveThreshold(blur, 255, cv2.ADAPTIVE_THRESH_GAUSSIAN_C,cv2.THRESH_BINARY_INV, 11, 2)\n",
    "    mask = Image.fromarray(thresh).convert(\"L\")\n",
    "    img = Image.fromarray(image).convert(\"RGB\")\n",
    "\n",
    "    cutout = naive_cutout(img, mask)\n",
    "    # result = cv2.bitwise_and(image, image, mask=thresh)\n",
    "    # result[thresh==0] = [255,255,255]\n",
    "\n",
    "    #cutout = Image.fromarray(result)\n",
    "    # ret = Image.fromarray(thresh, 'L')  # 'L' mode is for grayscale\n",
    "    # ret.save(output_path)\n",
    "    cutout.save(output_path)\n",
    "\n",
    "\n",
    "\n",
    "# Sử dụng hàm\n",
    "img_paths = [\n",
    "    '../data/HinhChuKy1.png',\n",
    "    '../data/HinhChuKy2.png',\n",
    "    '../data/HinhChuKy3.png',\n",
    "    '../data/HinhChuKy4.png',\n",
    "    '../data/HinhChuKy5.png',\n",
    "    '../data/HinhChuKy6.png',\n",
    "]\n",
    "\n",
    "for img_path in img_paths:\n",
    "    file_name = os.path.basename(img_path)\n",
    "    name, ext = os.path.splitext(file_name)\n",
    "    new_file_name = f\"{name}_rembg{ext}\"\n",
    "    new_file_path = os.path.join('../data/Results', new_file_name)\n",
    "    remove_background_signature(img_path, new_file_path)"
   ]
  },
  {
   "cell_type": "code",
   "execution_count": 6,
   "outputs": [],
   "source": [],
   "metadata": {
    "collapsed": false,
    "ExecuteTime": {
     "end_time": "2024-04-15T12:25:28.030878400Z",
     "start_time": "2024-04-15T12:25:28.025862400Z"
    }
   }
  },
  {
   "cell_type": "code",
   "execution_count": null,
   "outputs": [],
   "source": [],
   "metadata": {
    "collapsed": false
   }
  }
 ],
 "metadata": {
  "kernelspec": {
   "display_name": "Python 3",
   "language": "python",
   "name": "python3"
  },
  "language_info": {
   "codemirror_mode": {
    "name": "ipython",
    "version": 2
   },
   "file_extension": ".py",
   "mimetype": "text/x-python",
   "name": "python",
   "nbconvert_exporter": "python",
   "pygments_lexer": "ipython2",
   "version": "2.7.6"
  }
 },
 "nbformat": 4,
 "nbformat_minor": 0
}
